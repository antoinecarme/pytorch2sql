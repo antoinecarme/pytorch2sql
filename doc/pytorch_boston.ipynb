{
 "cells": [
  {
   "cell_type": "code",
   "execution_count": 1,
   "metadata": {},
   "outputs": [],
   "source": [
    "import os, numpy as np\n",
    "import pandas as pd\n",
    "\n",
    "from sklearn import datasets\n",
    "\n",
    "from sklearn.model_selection import train_test_split\n",
    "\n",
    "import torch\n",
    "from torch import nn\n",
    "import torch.nn.functional as F\n",
    "\n",
    "import skorch\n",
    "from skorch import NeuralNetRegressor\n",
    "\n",
    "torch.manual_seed(1960)\n",
    "\n",
    "torch.set_default_tensor_type('torch.DoubleTensor')\n"
   ]
  },
  {
   "cell_type": "markdown",
   "metadata": {},
   "source": [
    "# Build a PyTorch Model using Skorch"
   ]
  },
  {
   "cell_type": "code",
   "execution_count": 2,
   "metadata": {
    "format": "row"
   },
   "outputs": [],
   "source": [
    "# for the moment, only experimenting with pytorch sequential models, \n",
    "# This is a limitation and we will try to see what can be made to make\n",
    "# recurrent layers and convolutions usable inside sequential models.\n",
    "# Functional models (with custom forward methods) (are not/will not be) supported anyway.\n",
    "\n",
    "\n",
    "# This is a toy regression model with one hidden layer.\n",
    "def create_model():\n",
    "    hidden_units = 3\n",
    "    model = nn.Sequential(\n",
    "        nn.Linear(13, hidden_units),\n",
    "        nn.Linear(hidden_units , 1))\n",
    "    return model\n"
   ]
  },
  {
   "cell_type": "code",
   "execution_count": 3,
   "metadata": {},
   "outputs": [],
   "source": [
    "boston  = datasets.load_boston()\n",
    "train_X, test_X, train_y, test_y = train_test_split(boston.data, boston.target, train_size=0.8, test_size=0.2, random_state=1960)\n",
    "train_y = train_y.reshape(-1, 1)\n",
    "test_y = test_y.reshape(-1, 1)"
   ]
  },
  {
   "cell_type": "code",
   "execution_count": 4,
   "metadata": {},
   "outputs": [
    {
     "name": "stdout",
     "output_type": "stream",
     "text": [
      "(404, 13) (404, 1)\n",
      "  epoch    train_loss    valid_loss     dur\n",
      "-------  ------------  ------------  ------\n",
      "      1      \u001b[36m297.5652\u001b[0m      \u001b[32m148.7383\u001b[0m  0.0603\n",
      "      2      \u001b[36m121.4895\u001b[0m       \u001b[32m88.5588\u001b[0m  0.0089\n",
      "      3       \u001b[36m86.3258\u001b[0m       \u001b[32m87.3114\u001b[0m  0.0083\n",
      "      4      101.9769      107.4249  0.0084\n",
      "      5      105.2715       \u001b[32m85.5098\u001b[0m  0.0081\n",
      "      6       88.7895       \u001b[32m73.8404\u001b[0m  0.0081\n",
      "      7       \u001b[36m72.6823\u001b[0m       \u001b[32m68.5698\u001b[0m  0.0080\n",
      "      8       \u001b[36m67.9871\u001b[0m       68.8389  0.0082\n",
      "      9       70.4357       74.6676  0.0078\n",
      "     10       71.1231       69.4323  0.0088\n"
     ]
    },
    {
     "data": {
      "text/plain": [
       "<class 'skorch.regressor.NeuralNetRegressor'>[initialized](\n",
       "  module_=Sequential(\n",
       "    (0): Linear(in_features=13, out_features=3, bias=True)\n",
       "    (1): Linear(in_features=3, out_features=1, bias=True)\n",
       "  ),\n",
       ")"
      ]
     },
     "execution_count": 4,
     "metadata": {},
     "output_type": "execute_result"
    }
   ],
   "source": [
    "\n",
    "net = skorch.NeuralNetRegressor(\n",
    "    create_model(),\n",
    "    optimizer=torch.optim.Adam,\n",
    "    max_epochs=10,\n",
    ")\n",
    "\n",
    "\n",
    "print(train_X.shape , train_y.shape)\n",
    "net.fit(train_X, train_y)"
   ]
  },
  {
   "cell_type": "code",
   "execution_count": 5,
   "metadata": {},
   "outputs": [
    {
     "name": "stdout",
     "output_type": "stream",
     "text": [
      "(102, 13)\n",
      "[[20.00808598]]\n"
     ]
    }
   ],
   "source": [
    "print(test_X.shape)\n",
    "preds = net.predict(test_X[0,:].reshape(1,13))\n",
    "print(preds)\n"
   ]
  },
  {
   "cell_type": "code",
   "execution_count": null,
   "metadata": {},
   "outputs": [],
   "source": []
  },
  {
   "cell_type": "markdown",
   "metadata": {},
   "source": [
    "# Generate SQL Code from the Model"
   ]
  },
  {
   "cell_type": "code",
   "execution_count": 6,
   "metadata": {},
   "outputs": [],
   "source": [
    "import json, requests, base64, pickle, sys\n",
    "\n",
    "sys.setrecursionlimit(200000)\n",
    "\n",
    "# Pickle the model and send it to the SQL generation web service\n",
    "# Get back the  SQL code.\n",
    "def test_ws_sql_gen(pickle_data):\n",
    "    WS_URL=\"http://localhost:1888/model\"\n",
    "    b64_data = base64.b64encode(pickle_data).decode('utf-8')\n",
    "    data={\"Name\":\"model1\", \"PickleData\":b64_data , \"SQLDialect\":\"postgresql\"}\n",
    "    r = requests.post(WS_URL, json=data)\n",
    "    # print(r.__dict__)\n",
    "    content = r.json()\n",
    "    # print(content)\n",
    "    lSQL = content[\"model\"][\"SQLGenrationResult\"][0][\"SQL\"]\n",
    "    return lSQL;\n",
    "\n"
   ]
  },
  {
   "cell_type": "code",
   "execution_count": 7,
   "metadata": {},
   "outputs": [],
   "source": [
    "pickle_data = pickle.dumps(net)\n",
    "lSQL = test_ws_sql_gen(pickle_data)\n",
    "# print(lSQL[0:2000])"
   ]
  },
  {
   "cell_type": "code",
   "execution_count": 8,
   "metadata": {
    "scrolled": false
   },
   "outputs": [
    {
     "name": "stdout",
     "output_type": "stream",
     "text": [
      "WITH pytorch_input AS \n",
      "(SELECT \"ADS\".\"KEY\" AS \"KEY\", \"ADS\".\"Feature_0\" AS \"Feature_0\", \"ADS\".\"Feature_1\" AS \"Feature_1\", \"ADS\".\"Feature_2\" AS \"Feature_2\", \"ADS\".\"Feature_3\" AS \"Feature_3\", \"ADS\".\"Feature_4\" AS \"Feature_4\", \"ADS\".\"Feature_5\" AS \"Feature_5\", \"ADS\".\"Feature_6\" AS \"Feature_6\", \"ADS\".\"Feature_7\" AS \"Feature_7\", \"ADS\".\"Feature_8\" AS \"Feature_8\", \"ADS\".\"Feature_9\" AS \"Feature_9\", \"ADS\".\"Feature_10\" AS \"Feature_10\", \"ADS\".\"Feature_11\" AS \"Feature_11\", \"ADS\".\"Feature_12\" AS \"Feature_12\" \n",
      "FROM \"INPUT_DATA\" AS \"ADS\"), \n",
      "pytorch_input_1 AS \n",
      "(SELECT pytorch_input.\"KEY\" AS \"KEY\", pytorch_input.\"Feature_0\" AS \"Feature_0\", pytorch_input.\"Feature_1\" AS \"Feature_1\", pytorch_input.\"Feature_2\" AS \"Feature_2\", pytorch_input.\"Feature_3\" AS \"Feature_3\", pytorch_input.\"Feature_4\" AS \"Feature_4\", pytorch_input.\"Feature_5\" AS \"Feature_5\", pytorch_input.\"Feature_6\" AS \"Feature_6\", pytorch_input.\"Feature_7\" AS \"Feature_7\", pytorch_input.\"Feature_8\" AS \"Feature_8\", pytorch_input.\"Feature_9\" AS \"Feature_9\", pytorch_input.\"Feature_10\" AS \"Feature_10\", pytorch_input.\"Feature_11\" AS \"Feature_11\", pytorch_input.\"Feature_12\" AS \"Feature_12\" \n",
      "FROM pytorch_input), \n",
      "layer_0 AS \n",
      "(SELECT pytorch_input_1.\"KEY\" AS \"KEY\", -0.08880928270256949 + -0.16133601080801607 * pytorch_input_1.\"Feature_0\" + -0.23940959449072752 * pytorch_input_1.\"Feature_1\" + 0.024372305397077874 * pytorch_input_1.\"Feature_2\" + 0.05819579672130101 * pytorch_input_1.\"Feature_3\" + 0.01653052703965729 * pytorch_input_1.\"Feature_4\" + -0.20479977480363154 * pytorch_input_1.\"Feature_5\" + 0.181762284177395 * pytorch_input_1.\"Feature_6\" + -0.28401919233242906 * pytorch_input_1.\"Feature_7\" + 0.08686475239994902 * pytorch_input_1.\"Feature_8\" + -0.19107658935076277 * pytorch_input_1.\"Feature_9\" + -0.30501339817194856 * pytorch_input_1.\"Feature_10\" + 0.05017587957845927 * pytorch_input_1.\"Feature_11\" + 0.1755533928940498 * pytorch_input_1.\"Feature_12\" AS output_1, -0.22014265104474026 + 0.281425798116357 * pytorch_input_1.\"Feature_0\" + -0.06525761041521239 * pytorch_input_1.\"Feature_1\" + 0.10995877521990498 * pytorch_input_1.\"Feature_2\" + -0.3922879306405126 * pytorch_input_1.\"Feature_3\" + -0.13476784468283615 * pytorch_input_1.\"Feature_4\" + -0.18976519455205929 * pytorch_input_1.\"Feature_5\" + 0.023307603052788374 * pytorch_input_1.\"Feature_6\" + 0.09082915961732649 * pytorch_input_1.\"Feature_7\" + 0.25632167895571634 * pytorch_input_1.\"Feature_8\" + 0.15014184259648125 * pytorch_input_1.\"Feature_9\" + -0.09289773679927939 * pytorch_input_1.\"Feature_10\" + -0.10421623094752512 * pytorch_input_1.\"Feature_11\" + 0.03582942068253618 * pytorch_input_1.\"Feature_12\" AS output_2, -0.07383468235293518 + -0.1781636505606574 * pytorch_input_1.\"Feature_0\" + -0.11251672020857183 * pytorch_input_1.\"Feature_1\" + -0.1812675332057761 * pytorch_input_1.\"Feature_2\" + 0.25156035005726796 * pytorch_input_1.\"Feature_3\" + 0.22998024838608516 * pytorch_input_1.\"Feature_4\" + -0.055483931311144194 * pytorch_input_1.\"Feature_5\" + 0.19437820386532398 * pytorch_input_1.\"Feature_6\" + -0.05090803180354051 * pytorch_input_1.\"Feature_7\" + -0.10634414469874613 * pytorch_input_1.\"Feature_8\" + 0.22248283247791734 * pytorch_input_1.\"Feature_9\" + -0.010070299265865456 * pytorch_input_1.\"Feature_10\" + -0.02778749503518713 * pytorch_input_1.\"Feature_11\" + -0.2804758893958868 * pytorch_input_1.\"Feature_12\" AS output_3 \n",
      "FROM pytorch_input_1), \n",
      "layer_0_1 AS \n",
      "(SELECT layer_0.\"KEY\" AS \"KEY\", layer_0.output_1 AS output_1, layer_0.output_2 AS output_2, layer_0.output_3 AS output_3 \n",
      "FROM layer_0), \n",
      "layer_1 AS \n",
      "(SELECT layer_0_1.\"KEY\" AS \"KEY\", 0.6187589990402844 + -0.24177804750462784 * layer_0_1.output_1 + -0.5164355282974689 * layer_0_1.output_2 + 0.2488526413642225 * layer_0_1.output_3 AS output_1 \n",
      "FROM layer_0_1)\n",
      " SELECT layer_1.\"KEY\" AS \"KEY\", layer_1.output_1 AS \"Estimator\" \n",
      "FROM layer_1\n"
     ]
    }
   ],
   "source": [
    "print(lSQL)"
   ]
  },
  {
   "cell_type": "markdown",
   "metadata": {},
   "source": [
    "# Execute the SQL Code"
   ]
  },
  {
   "cell_type": "code",
   "execution_count": 9,
   "metadata": {},
   "outputs": [],
   "source": [
    "# save the dataset in a database table\n",
    "\n",
    "\n",
    "import sqlalchemy as sa\n",
    "\n",
    "#engine = sa.create_engine('sqlite://' , echo=False)\n",
    "engine = sa.create_engine(\"postgresql://db:db@localhost/db?port=5432\", echo=False)\n",
    "conn = engine.connect()\n",
    "\n",
    "lTable = pd.DataFrame(boston.data);\n",
    "NC = boston.data.shape[1]\n",
    "lFeatures = ['Feature_' + str(x) for x in range(NC)]\n",
    "lTable.columns = lFeatures\n",
    "lTable['TGT'] = boston.target\n",
    "lTable['KEY'] = range(boston.data.shape[0])\n",
    "lTable.to_sql(\"INPUT_DATA\" , conn,   if_exists='replace', index=False)"
   ]
  },
  {
   "cell_type": "code",
   "execution_count": 10,
   "metadata": {},
   "outputs": [],
   "source": [
    "sql_output = pd.read_sql(lSQL , conn);\n",
    "conn.close()"
   ]
  },
  {
   "cell_type": "code",
   "execution_count": 11,
   "metadata": {},
   "outputs": [
    {
     "data": {
      "text/html": [
       "<div>\n",
       "<style scoped>\n",
       "    .dataframe tbody tr th:only-of-type {\n",
       "        vertical-align: middle;\n",
       "    }\n",
       "\n",
       "    .dataframe tbody tr th {\n",
       "        vertical-align: top;\n",
       "    }\n",
       "\n",
       "    .dataframe thead th {\n",
       "        text-align: right;\n",
       "    }\n",
       "</style>\n",
       "<table border=\"1\" class=\"dataframe\">\n",
       "  <thead>\n",
       "    <tr style=\"text-align: right;\">\n",
       "      <th></th>\n",
       "      <th>KEY</th>\n",
       "      <th>Estimator</th>\n",
       "    </tr>\n",
       "  </thead>\n",
       "  <tbody>\n",
       "    <tr>\n",
       "      <th>230</th>\n",
       "      <td>230</td>\n",
       "      <td>20.008086</td>\n",
       "    </tr>\n",
       "    <tr>\n",
       "      <th>112</th>\n",
       "      <td>112</td>\n",
       "      <td>22.846729</td>\n",
       "    </tr>\n",
       "    <tr>\n",
       "      <th>125</th>\n",
       "      <td>125</td>\n",
       "      <td>16.048917</td>\n",
       "    </tr>\n",
       "    <tr>\n",
       "      <th>9</th>\n",
       "      <td>9</td>\n",
       "      <td>20.526287</td>\n",
       "    </tr>\n",
       "    <tr>\n",
       "      <th>213</th>\n",
       "      <td>213</td>\n",
       "      <td>20.618331</td>\n",
       "    </tr>\n",
       "    <tr>\n",
       "      <th>109</th>\n",
       "      <td>109</td>\n",
       "      <td>22.388635</td>\n",
       "    </tr>\n",
       "    <tr>\n",
       "      <th>127</th>\n",
       "      <td>127</td>\n",
       "      <td>22.155289</td>\n",
       "    </tr>\n",
       "    <tr>\n",
       "      <th>244</th>\n",
       "      <td>244</td>\n",
       "      <td>22.027804</td>\n",
       "    </tr>\n",
       "    <tr>\n",
       "      <th>406</th>\n",
       "      <td>406</td>\n",
       "      <td>19.462396</td>\n",
       "    </tr>\n",
       "    <tr>\n",
       "      <th>490</th>\n",
       "      <td>490</td>\n",
       "      <td>23.692042</td>\n",
       "    </tr>\n",
       "    <tr>\n",
       "      <th>245</th>\n",
       "      <td>245</td>\n",
       "      <td>21.878988</td>\n",
       "    </tr>\n",
       "    <tr>\n",
       "      <th>133</th>\n",
       "      <td>133</td>\n",
       "      <td>22.336137</td>\n",
       "    </tr>\n",
       "  </tbody>\n",
       "</table>\n",
       "</div>"
      ],
      "text/plain": [
       "     KEY  Estimator\n",
       "230  230  20.008086\n",
       "112  112  22.846729\n",
       "125  125  16.048917\n",
       "9      9  20.526287\n",
       "213  213  20.618331\n",
       "109  109  22.388635\n",
       "127  127  22.155289\n",
       "244  244  22.027804\n",
       "406  406  19.462396\n",
       "490  490  23.692042\n",
       "245  245  21.878988\n",
       "133  133  22.336137"
      ]
     },
     "execution_count": 11,
     "metadata": {},
     "output_type": "execute_result"
    }
   ],
   "source": [
    "sql_output.sample(12, random_state=1960)"
   ]
  },
  {
   "cell_type": "markdown",
   "metadata": {},
   "source": [
    "# PyTorch Prediction"
   ]
  },
  {
   "cell_type": "code",
   "execution_count": 12,
   "metadata": {},
   "outputs": [
    {
     "data": {
      "text/html": [
       "<div>\n",
       "<style scoped>\n",
       "    .dataframe tbody tr th:only-of-type {\n",
       "        vertical-align: middle;\n",
       "    }\n",
       "\n",
       "    .dataframe tbody tr th {\n",
       "        vertical-align: top;\n",
       "    }\n",
       "\n",
       "    .dataframe thead th {\n",
       "        text-align: right;\n",
       "    }\n",
       "</style>\n",
       "<table border=\"1\" class=\"dataframe\">\n",
       "  <thead>\n",
       "    <tr style=\"text-align: right;\">\n",
       "      <th></th>\n",
       "      <th>KEY</th>\n",
       "      <th>Estimator</th>\n",
       "    </tr>\n",
       "  </thead>\n",
       "  <tbody>\n",
       "    <tr>\n",
       "      <th>230</th>\n",
       "      <td>230</td>\n",
       "      <td>20.008086</td>\n",
       "    </tr>\n",
       "    <tr>\n",
       "      <th>112</th>\n",
       "      <td>112</td>\n",
       "      <td>22.846729</td>\n",
       "    </tr>\n",
       "    <tr>\n",
       "      <th>125</th>\n",
       "      <td>125</td>\n",
       "      <td>16.048917</td>\n",
       "    </tr>\n",
       "    <tr>\n",
       "      <th>9</th>\n",
       "      <td>9</td>\n",
       "      <td>20.526287</td>\n",
       "    </tr>\n",
       "    <tr>\n",
       "      <th>213</th>\n",
       "      <td>213</td>\n",
       "      <td>20.618331</td>\n",
       "    </tr>\n",
       "    <tr>\n",
       "      <th>109</th>\n",
       "      <td>109</td>\n",
       "      <td>22.388635</td>\n",
       "    </tr>\n",
       "    <tr>\n",
       "      <th>127</th>\n",
       "      <td>127</td>\n",
       "      <td>22.155289</td>\n",
       "    </tr>\n",
       "    <tr>\n",
       "      <th>244</th>\n",
       "      <td>244</td>\n",
       "      <td>22.027804</td>\n",
       "    </tr>\n",
       "    <tr>\n",
       "      <th>406</th>\n",
       "      <td>406</td>\n",
       "      <td>19.462396</td>\n",
       "    </tr>\n",
       "    <tr>\n",
       "      <th>490</th>\n",
       "      <td>490</td>\n",
       "      <td>23.692042</td>\n",
       "    </tr>\n",
       "    <tr>\n",
       "      <th>245</th>\n",
       "      <td>245</td>\n",
       "      <td>21.878988</td>\n",
       "    </tr>\n",
       "    <tr>\n",
       "      <th>133</th>\n",
       "      <td>133</td>\n",
       "      <td>22.336137</td>\n",
       "    </tr>\n",
       "  </tbody>\n",
       "</table>\n",
       "</div>"
      ],
      "text/plain": [
       "     KEY  Estimator\n",
       "230  230  20.008086\n",
       "112  112  22.846729\n",
       "125  125  16.048917\n",
       "9      9  20.526287\n",
       "213  213  20.618331\n",
       "109  109  22.388635\n",
       "127  127  22.155289\n",
       "244  244  22.027804\n",
       "406  406  19.462396\n",
       "490  490  23.692042\n",
       "245  245  21.878988\n",
       "133  133  22.336137"
      ]
     },
     "execution_count": 12,
     "metadata": {},
     "output_type": "execute_result"
    }
   ],
   "source": [
    "pytorch_output = pd.DataFrame()\n",
    "pytorch_output_key = pd.DataFrame(list(range(boston.data.shape[0])), columns=['KEY']);\n",
    "pytorch_output_estimator = pd.DataFrame(net.predict(boston.data), columns=['Estimator'])\n",
    "pytorch_output = pytorch_output_key\n",
    "pytorch_output['Estimator'] = pytorch_output_estimator\n",
    "pytorch_output.sample(12, random_state=1960)"
   ]
  },
  {
   "cell_type": "markdown",
   "metadata": {
    "format": "column"
   },
   "source": [
    "# Comparing the SQL and PyTorch Predictions"
   ]
  },
  {
   "cell_type": "code",
   "execution_count": 13,
   "metadata": {},
   "outputs": [],
   "source": [
    "sql_pytorch_join = pytorch_output.join(sql_output , how='left', on='KEY', lsuffix='_pytorch', rsuffix='_sql')\n",
    "sql_pytorch_join['Error'] = sql_pytorch_join.Estimator_sql - sql_pytorch_join.Estimator_pytorch"
   ]
  },
  {
   "cell_type": "code",
   "execution_count": 14,
   "metadata": {},
   "outputs": [
    {
     "data": {
      "text/html": [
       "<div>\n",
       "<style scoped>\n",
       "    .dataframe tbody tr th:only-of-type {\n",
       "        vertical-align: middle;\n",
       "    }\n",
       "\n",
       "    .dataframe tbody tr th {\n",
       "        vertical-align: top;\n",
       "    }\n",
       "\n",
       "    .dataframe thead th {\n",
       "        text-align: right;\n",
       "    }\n",
       "</style>\n",
       "<table border=\"1\" class=\"dataframe\">\n",
       "  <thead>\n",
       "    <tr style=\"text-align: right;\">\n",
       "      <th></th>\n",
       "      <th>KEY_pytorch</th>\n",
       "      <th>Estimator_pytorch</th>\n",
       "      <th>KEY_sql</th>\n",
       "      <th>Estimator_sql</th>\n",
       "      <th>Error</th>\n",
       "    </tr>\n",
       "  </thead>\n",
       "  <tbody>\n",
       "    <tr>\n",
       "      <th>0</th>\n",
       "      <td>0</td>\n",
       "      <td>24.022744</td>\n",
       "      <td>0</td>\n",
       "      <td>24.022744</td>\n",
       "      <td>3.552714e-15</td>\n",
       "    </tr>\n",
       "    <tr>\n",
       "      <th>1</th>\n",
       "      <td>1</td>\n",
       "      <td>20.513554</td>\n",
       "      <td>1</td>\n",
       "      <td>20.513554</td>\n",
       "      <td>2.486900e-14</td>\n",
       "    </tr>\n",
       "    <tr>\n",
       "      <th>2</th>\n",
       "      <td>2</td>\n",
       "      <td>21.277775</td>\n",
       "      <td>2</td>\n",
       "      <td>21.277775</td>\n",
       "      <td>4.263256e-14</td>\n",
       "    </tr>\n",
       "    <tr>\n",
       "      <th>3</th>\n",
       "      <td>3</td>\n",
       "      <td>21.556214</td>\n",
       "      <td>3</td>\n",
       "      <td>21.556214</td>\n",
       "      <td>7.105427e-15</td>\n",
       "    </tr>\n",
       "    <tr>\n",
       "      <th>4</th>\n",
       "      <td>4</td>\n",
       "      <td>21.273130</td>\n",
       "      <td>4</td>\n",
       "      <td>21.273130</td>\n",
       "      <td>1.776357e-14</td>\n",
       "    </tr>\n",
       "    <tr>\n",
       "      <th>5</th>\n",
       "      <td>5</td>\n",
       "      <td>21.067930</td>\n",
       "      <td>5</td>\n",
       "      <td>21.067930</td>\n",
       "      <td>7.105427e-15</td>\n",
       "    </tr>\n",
       "    <tr>\n",
       "      <th>6</th>\n",
       "      <td>6</td>\n",
       "      <td>21.596923</td>\n",
       "      <td>6</td>\n",
       "      <td>21.596923</td>\n",
       "      <td>4.618528e-14</td>\n",
       "    </tr>\n",
       "    <tr>\n",
       "      <th>7</th>\n",
       "      <td>7</td>\n",
       "      <td>20.555443</td>\n",
       "      <td>7</td>\n",
       "      <td>20.555443</td>\n",
       "      <td>-1.065814e-14</td>\n",
       "    </tr>\n",
       "    <tr>\n",
       "      <th>8</th>\n",
       "      <td>8</td>\n",
       "      <td>18.677997</td>\n",
       "      <td>8</td>\n",
       "      <td>18.677997</td>\n",
       "      <td>-2.486900e-14</td>\n",
       "    </tr>\n",
       "    <tr>\n",
       "      <th>9</th>\n",
       "      <td>9</td>\n",
       "      <td>20.526287</td>\n",
       "      <td>9</td>\n",
       "      <td>20.526287</td>\n",
       "      <td>-3.552714e-15</td>\n",
       "    </tr>\n",
       "    <tr>\n",
       "      <th>10</th>\n",
       "      <td>10</td>\n",
       "      <td>20.265771</td>\n",
       "      <td>10</td>\n",
       "      <td>20.265771</td>\n",
       "      <td>-3.197442e-14</td>\n",
       "    </tr>\n",
       "    <tr>\n",
       "      <th>11</th>\n",
       "      <td>11</td>\n",
       "      <td>21.409497</td>\n",
       "      <td>11</td>\n",
       "      <td>21.409497</td>\n",
       "      <td>-2.842171e-14</td>\n",
       "    </tr>\n",
       "  </tbody>\n",
       "</table>\n",
       "</div>"
      ],
      "text/plain": [
       "    KEY_pytorch  Estimator_pytorch  KEY_sql  Estimator_sql         Error\n",
       "0             0          24.022744        0      24.022744  3.552714e-15\n",
       "1             1          20.513554        1      20.513554  2.486900e-14\n",
       "2             2          21.277775        2      21.277775  4.263256e-14\n",
       "3             3          21.556214        3      21.556214  7.105427e-15\n",
       "4             4          21.273130        4      21.273130  1.776357e-14\n",
       "5             5          21.067930        5      21.067930  7.105427e-15\n",
       "6             6          21.596923        6      21.596923  4.618528e-14\n",
       "7             7          20.555443        7      20.555443 -1.065814e-14\n",
       "8             8          18.677997        8      18.677997 -2.486900e-14\n",
       "9             9          20.526287        9      20.526287 -3.552714e-15\n",
       "10           10          20.265771       10      20.265771 -3.197442e-14\n",
       "11           11          21.409497       11      21.409497 -2.842171e-14"
      ]
     },
     "execution_count": 14,
     "metadata": {},
     "output_type": "execute_result"
    }
   ],
   "source": [
    "sql_pytorch_join.head(12)"
   ]
  },
  {
   "cell_type": "code",
   "execution_count": 15,
   "metadata": {},
   "outputs": [
    {
     "data": {
      "text/html": [
       "<div>\n",
       "<style scoped>\n",
       "    .dataframe tbody tr th:only-of-type {\n",
       "        vertical-align: middle;\n",
       "    }\n",
       "\n",
       "    .dataframe tbody tr th {\n",
       "        vertical-align: top;\n",
       "    }\n",
       "\n",
       "    .dataframe thead th {\n",
       "        text-align: right;\n",
       "    }\n",
       "</style>\n",
       "<table border=\"1\" class=\"dataframe\">\n",
       "  <thead>\n",
       "    <tr style=\"text-align: right;\">\n",
       "      <th></th>\n",
       "      <th>KEY_pytorch</th>\n",
       "      <th>Estimator_pytorch</th>\n",
       "      <th>KEY_sql</th>\n",
       "      <th>Estimator_sql</th>\n",
       "      <th>Error</th>\n",
       "    </tr>\n",
       "  </thead>\n",
       "  <tbody>\n",
       "    <tr>\n",
       "      <th>count</th>\n",
       "      <td>506.000000</td>\n",
       "      <td>506.000000</td>\n",
       "      <td>506.000000</td>\n",
       "      <td>506.000000</td>\n",
       "      <td>5.060000e+02</td>\n",
       "    </tr>\n",
       "    <tr>\n",
       "      <th>mean</th>\n",
       "      <td>252.500000</td>\n",
       "      <td>21.191186</td>\n",
       "      <td>252.500000</td>\n",
       "      <td>21.191186</td>\n",
       "      <td>-1.598853e-15</td>\n",
       "    </tr>\n",
       "    <tr>\n",
       "      <th>std</th>\n",
       "      <td>146.213884</td>\n",
       "      <td>4.392024</td>\n",
       "      <td>146.213884</td>\n",
       "      <td>4.392024</td>\n",
       "      <td>2.799861e-14</td>\n",
       "    </tr>\n",
       "    <tr>\n",
       "      <th>min</th>\n",
       "      <td>0.000000</td>\n",
       "      <td>-0.190742</td>\n",
       "      <td>0.000000</td>\n",
       "      <td>-0.190742</td>\n",
       "      <td>-5.684342e-14</td>\n",
       "    </tr>\n",
       "    <tr>\n",
       "      <th>25%</th>\n",
       "      <td>126.250000</td>\n",
       "      <td>20.155486</td>\n",
       "      <td>126.250000</td>\n",
       "      <td>20.155486</td>\n",
       "      <td>-2.486900e-14</td>\n",
       "    </tr>\n",
       "    <tr>\n",
       "      <th>50%</th>\n",
       "      <td>252.500000</td>\n",
       "      <td>21.593711</td>\n",
       "      <td>252.500000</td>\n",
       "      <td>21.593711</td>\n",
       "      <td>-8.881784e-16</td>\n",
       "    </tr>\n",
       "    <tr>\n",
       "      <th>75%</th>\n",
       "      <td>378.750000</td>\n",
       "      <td>23.391669</td>\n",
       "      <td>378.750000</td>\n",
       "      <td>23.391669</td>\n",
       "      <td>2.131628e-14</td>\n",
       "    </tr>\n",
       "    <tr>\n",
       "      <th>max</th>\n",
       "      <td>505.000000</td>\n",
       "      <td>31.899223</td>\n",
       "      <td>505.000000</td>\n",
       "      <td>31.899223</td>\n",
       "      <td>5.329071e-14</td>\n",
       "    </tr>\n",
       "  </tbody>\n",
       "</table>\n",
       "</div>"
      ],
      "text/plain": [
       "       KEY_pytorch  Estimator_pytorch     KEY_sql  Estimator_sql         Error\n",
       "count   506.000000         506.000000  506.000000     506.000000  5.060000e+02\n",
       "mean    252.500000          21.191186  252.500000      21.191186 -1.598853e-15\n",
       "std     146.213884           4.392024  146.213884       4.392024  2.799861e-14\n",
       "min       0.000000          -0.190742    0.000000      -0.190742 -5.684342e-14\n",
       "25%     126.250000          20.155486  126.250000      20.155486 -2.486900e-14\n",
       "50%     252.500000          21.593711  252.500000      21.593711 -8.881784e-16\n",
       "75%     378.750000          23.391669  378.750000      23.391669  2.131628e-14\n",
       "max     505.000000          31.899223  505.000000      31.899223  5.329071e-14"
      ]
     },
     "execution_count": 15,
     "metadata": {},
     "output_type": "execute_result"
    }
   ],
   "source": [
    "sql_pytorch_join.describe()"
   ]
  },
  {
   "cell_type": "code",
   "execution_count": 16,
   "metadata": {},
   "outputs": [
    {
     "data": {
      "text/plain": [
       "count    5.060000e+02\n",
       "mean    -1.598853e-15\n",
       "std      2.799861e-14\n",
       "min     -5.684342e-14\n",
       "25%     -2.486900e-14\n",
       "50%     -8.881784e-16\n",
       "75%      2.131628e-14\n",
       "max      5.329071e-14\n",
       "Name: Error, dtype: float64"
      ]
     },
     "execution_count": 16,
     "metadata": {},
     "output_type": "execute_result"
    }
   ],
   "source": [
    "sql_pytorch_join.Error.describe()"
   ]
  },
  {
   "cell_type": "code",
   "execution_count": null,
   "metadata": {},
   "outputs": [],
   "source": []
  }
 ],
 "metadata": {
  "kernelspec": {
   "display_name": "Python 3",
   "language": "python",
   "name": "python3"
  },
  "language_info": {
   "codemirror_mode": {
    "name": "ipython",
    "version": 3
   },
   "file_extension": ".py",
   "mimetype": "text/x-python",
   "name": "python",
   "nbconvert_exporter": "python",
   "pygments_lexer": "ipython3",
   "version": "3.6.7rc1"
  }
 },
 "nbformat": 4,
 "nbformat_minor": 2
}
